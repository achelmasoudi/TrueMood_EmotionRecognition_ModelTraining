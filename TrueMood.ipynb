{
  "nbformat": 4,
  "nbformat_minor": 0,
  "metadata": {
    "colab": {
      "provenance": [],
      "machine_shape": "hm",
      "gpuType": "A100",
      "authorship_tag": "ABX9TyNJ33QzhQM+qKdnHVzp62CA",
      "include_colab_link": true
    },
    "kernelspec": {
      "name": "python3",
      "display_name": "Python 3"
    },
    "language_info": {
      "name": "python"
    },
    "accelerator": "GPU"
  },
  "cells": [
    {
      "cell_type": "markdown",
      "metadata": {
        "id": "view-in-github",
        "colab_type": "text"
      },
      "source": [
        "<a href=\"https://colab.research.google.com/github/achelmasoudi/TrueMood_EmotionRecognition_ModelTraining/blob/main/TrueMood.ipynb\" target=\"_parent\"><img src=\"https://colab.research.google.com/assets/colab-badge.svg\" alt=\"Open In Colab\"/></a>"
      ]
    },
    {
      "cell_type": "code",
      "execution_count": null,
      "metadata": {
        "colab": {
          "base_uri": "https://localhost:8080/"
        },
        "id": "g9DpehxR1_bk",
        "outputId": "a8bae429-a704-428b-ef27-3d91dec8963f"
      },
      "outputs": [
        {
          "output_type": "stream",
          "name": "stdout",
          "text": [
            "Requirement already satisfied: opendatasets in /usr/local/lib/python3.10/dist-packages (0.1.22)\n",
            "Requirement already satisfied: tqdm in /usr/local/lib/python3.10/dist-packages (from opendatasets) (4.67.1)\n",
            "Requirement already satisfied: kaggle in /usr/local/lib/python3.10/dist-packages (from opendatasets) (1.6.17)\n",
            "Requirement already satisfied: click in /usr/local/lib/python3.10/dist-packages (from opendatasets) (8.1.7)\n",
            "Requirement already satisfied: six>=1.10 in /usr/local/lib/python3.10/dist-packages (from kaggle->opendatasets) (1.17.0)\n",
            "Requirement already satisfied: certifi>=2023.7.22 in /usr/local/lib/python3.10/dist-packages (from kaggle->opendatasets) (2024.12.14)\n",
            "Requirement already satisfied: python-dateutil in /usr/local/lib/python3.10/dist-packages (from kaggle->opendatasets) (2.8.2)\n",
            "Requirement already satisfied: requests in /usr/local/lib/python3.10/dist-packages (from kaggle->opendatasets) (2.32.3)\n",
            "Requirement already satisfied: python-slugify in /usr/local/lib/python3.10/dist-packages (from kaggle->opendatasets) (8.0.4)\n",
            "Requirement already satisfied: urllib3 in /usr/local/lib/python3.10/dist-packages (from kaggle->opendatasets) (2.2.3)\n",
            "Requirement already satisfied: bleach in /usr/local/lib/python3.10/dist-packages (from kaggle->opendatasets) (6.2.0)\n",
            "Requirement already satisfied: webencodings in /usr/local/lib/python3.10/dist-packages (from bleach->kaggle->opendatasets) (0.5.1)\n",
            "Requirement already satisfied: text-unidecode>=1.3 in /usr/local/lib/python3.10/dist-packages (from python-slugify->kaggle->opendatasets) (1.3)\n",
            "Requirement already satisfied: charset-normalizer<4,>=2 in /usr/local/lib/python3.10/dist-packages (from requests->kaggle->opendatasets) (3.4.0)\n",
            "Requirement already satisfied: idna<4,>=2.5 in /usr/local/lib/python3.10/dist-packages (from requests->kaggle->opendatasets) (3.10)\n"
          ]
        }
      ],
      "source": [
        "!pip install opendatasets"
      ]
    },
    {
      "cell_type": "code",
      "source": [
        "import opendatasets as od\n",
        "od.download(\"https://www.kaggle.com/datasets/msambare/fer2013\")"
      ],
      "metadata": {
        "colab": {
          "base_uri": "https://localhost:8080/"
        },
        "id": "G9r7UHvb2Jkp",
        "outputId": "c60c79b5-3dda-4996-813b-28008fbdfc1a"
      },
      "execution_count": null,
      "outputs": [
        {
          "output_type": "stream",
          "name": "stdout",
          "text": [
            "Please provide your Kaggle credentials to download this dataset. Learn more: http://bit.ly/kaggle-creds\n",
            "Your Kaggle username: achelm9\n",
            "Your Kaggle Key: ··········\n",
            "Dataset URL: https://www.kaggle.com/datasets/debashishsau/aslamerican-sign-language-aplhabet-dataset\n",
            "Downloading aslamerican-sign-language-aplhabet-dataset.zip to ./aslamerican-sign-language-aplhabet-dataset\n"
          ]
        },
        {
          "output_type": "stream",
          "name": "stderr",
          "text": [
            "100%|██████████| 4.20G/4.20G [00:34<00:00, 129MB/s]\n"
          ]
        },
        {
          "output_type": "stream",
          "name": "stdout",
          "text": [
            "\n"
          ]
        }
      ]
    },
    {
      "cell_type": "code",
      "source": [
        "import pandas as pd  # Veri manipülasyonu ve analizi için\n",
        "import numpy as np  # Sayısal işlemler ve dizilerle çalışma için\n",
        "import cv2 as cv  # Görüntü işleme görevleri için\n",
        "import os  # Dosya yolları gibi işletim sistemi ile etkileşim için\n",
        "import tensorflow as tf  # Sinir ağı modelleri oluşturmak ve eğitmek için\n",
        "\n",
        "from tensorflow.keras.preprocessing.image import ImageDataGenerator  # Gerçek zamanlı veri artırma için\n",
        "from tensorflow.keras.models import load_model  # Kaydedilmiş bir Keras modelini yüklemek için\n",
        "from keras.models import Sequential  # Katmanları sıralı bir modelde oluşturmak için\n",
        "from keras.layers import Conv2D, MaxPooling2D, Dense, Dropout, Flatten  # Model katmanları oluşturmak için\n",
        "from keras.optimizers import Adam  # Optimizasyon algoritmaları için\n",
        "from keras.layers import BatchNormalization  # Sinir ağı katmanlarında Batch Normalization uygulamak için\n",
        "from keras.regularizers import l2  # Aşırı öğrenmeyi önlemek için L2 düzenleme\n",
        "from keras.callbacks import ReduceLROnPlateau, EarlyStopping  # Özel callback fonksiyonları için\n",
        "\n",
        "import warnings  # Uyarıları ele almak için\n",
        "import sys  # Python yorumlayıcısı ile etkileşim için\n",
        "\n",
        "# Gereksiz uyarı mesajlarını görmezden gel\n",
        "if not sys.warnoptions:\n",
        "    warnings.simplefilter(\"ignore\")  # Basit uyarıları devre dışı bırak\n",
        "warnings.filterwarnings(\"ignore\", category=DeprecationWarning)  # Deprecation uyarılarını görmezden gel"
      ],
      "metadata": {
        "id": "bP8OGV1l2a2R"
      },
      "execution_count": null,
      "outputs": []
    },
    {
      "cell_type": "code",
      "source": [
        "import shutil\n",
        "\n",
        "# Orijinal veri seti yolu ve eğitim/test veri seti dizinlerini tanımla\n",
        "original_dataset_dir = '/content/fer2013/train'\n",
        "train_dir = 'fer2013_train'\n",
        "test_dir = 'fer2013_test'\n",
        "\n",
        "# Eğitim ve test veri seti dizinlerini oluştur\n",
        "os.makedirs(train_dir, exist_ok=True)\n",
        "os.makedirs(test_dir, exist_ok=True)\n",
        "\n",
        "# Eğitim veri seti oranını belirle\n",
        "train_ratio = 0.8\n",
        "\n",
        "# Her duygu kategorisi için döngü başlat\n",
        "for emotion in os.listdir(original_dataset_dir):\n",
        "    emotion_dir = os.path.join(original_dataset_dir, emotion)\n",
        "    if os.path.isdir(emotion_dir):\n",
        "        # Kategoriye ait görüntü dosyalarının listesini al\n",
        "        images = [f for f in os.listdir(emotion_dir) if os.path.isfile(os.path.join(emotion_dir, f))]\n",
        "\n",
        "        # Görüntü dosyalarını rastgele sırala\n",
        "        np.random.shuffle(images)\n",
        "\n",
        "        # Görüntüleri eğitim ve test olarak böl\n",
        "        train_size = int(len(images) * train_ratio)\n",
        "        train_images = images[:train_size]\n",
        "        test_images = images[train_size:]\n",
        "\n",
        "        # Eğitim ve test için kategorilere ait dizinleri oluştur\n",
        "        train_emotion_dir = os.path.join(train_dir, emotion)\n",
        "        test_emotion_dir = os.path.join(test_dir, emotion)\n",
        "        os.makedirs(train_emotion_dir, exist_ok=True)\n",
        "        os.makedirs(test_emotion_dir, exist_ok=True)\n",
        "\n",
        "        # Görüntüleri ilgili dizinlere kopyala\n",
        "        for image in train_images:\n",
        "            shutil.copy(os.path.join(emotion_dir, image), os.path.join(train_emotion_dir, image))\n",
        "        for image in test_images:\n",
        "            shutil.copy(os.path.join(emotion_dir, image), os.path.join(test_emotion_dir, image))\n",
        "\n",
        "print(\"Veri seti bölme işlemi tamamlandı\")"
      ],
      "metadata": {
        "colab": {
          "base_uri": "https://localhost:8080/"
        },
        "id": "pwx2uvlw2iD-",
        "outputId": "96ce8ac1-7722-41a8-f6bf-f8a91394e5cb"
      },
      "execution_count": null,
      "outputs": [
        {
          "output_type": "stream",
          "name": "stdout",
          "text": [
            "Veri seti bölme işlemi tamamlandı\n"
          ]
        }
      ]
    },
    {
      "cell_type": "code",
      "source": [
        "import cv2\n",
        "\n",
        "# Görüntüyü yükle\n",
        "img = cv2.imread('/content/fer2013/train/happy/Training_10070997.jpg')\n",
        "# Görüntünün boyutlarını al\n",
        "height, width, channels = img.shape\n",
        "print(f'Boyutlar: {width}x{height}')"
      ],
      "metadata": {
        "colab": {
          "base_uri": "https://localhost:8080/"
        },
        "id": "nap-djjb2u9W",
        "outputId": "9b01b8c7-a3c0-46d8-db3f-1a638ff91c82"
      },
      "execution_count": null,
      "outputs": [
        {
          "output_type": "stream",
          "name": "stdout",
          "text": [
            "Boyutlar: 48x48\n"
          ]
        }
      ]
    },
    {
      "cell_type": "code",
      "source": [
        "# Eğitim veri seti için veri artırma işlemleri\n",
        "train_data_generator = ImageDataGenerator(\n",
        "    rescale=1./255,  # Piksel değerlerini normalize et\n",
        "    rotation_range=15,  # Rastgele 15 derece döndürme\n",
        "    width_shift_range=0.15,  # Yatayda %15 kaydırma\n",
        "    height_shift_range=0.15,  # Dikeyde %15 kaydırma\n",
        "    shear_range=0.15,  # Kesme dönüşümleri\n",
        "    zoom_range=0.15,  # Yakınlaştırma oranı\n",
        "    horizontal_flip=True  # Rastgele yatay çevirme\n",
        ")\n",
        "\n",
        "# Eğitim veri setini yükle\n",
        "fer_training_data = train_data_generator.flow_from_directory(\n",
        "    '/content/fer2013_train',  # Eğitim veri seti yolu\n",
        "    target_size=(48, 48),  # Görüntüleri 48x48 boyutlarına getir\n",
        "    batch_size=64,  # Her partide 64 görüntü\n",
        "    color_mode='grayscale',  # Görüntüleri gri tonlamada yükle\n",
        "    class_mode='categorical'  # Etiketler kategorik formatta olacak\n",
        ")\n",
        "\n",
        "\n",
        "fer_training_data"
      ],
      "metadata": {
        "colab": {
          "base_uri": "https://localhost:8080/"
        },
        "id": "9ThjwK2X24LD",
        "outputId": "f0060195-432b-4f56-9886-6a9c3270aab3"
      },
      "execution_count": null,
      "outputs": [
        {
          "output_type": "stream",
          "name": "stdout",
          "text": [
            "Found 27558 images belonging to 7 classes.\n"
          ]
        },
        {
          "output_type": "execute_result",
          "data": {
            "text/plain": [
              "<keras.src.legacy.preprocessing.image.DirectoryIterator at 0x7814cb9d65c0>"
            ]
          },
          "metadata": {},
          "execution_count": 6
        }
      ]
    },
    {
      "cell_type": "code",
      "source": [
        "# Test veri seti için veri artırma işlemi (sadece normalizasyon)\n",
        "# Rescales images by dividing pixel values by 255 (normalization)\n",
        "test_data_generator = ImageDataGenerator(rescale=1./255)\n",
        "\n",
        "# Test veri setini yükle\n",
        "fer_test_data = test_data_generator.flow_from_directory(\n",
        "    '/content/fer2013_test',  # Test veri seti yolu\n",
        "    target_size=(48, 48),  # Görüntüleri 48x48 boyutlarına getir\n",
        "    batch_size=64,  # Her partide 64 görüntü\n",
        "    color_mode='grayscale',  # Görüntüleri gri tonlamada yükle\n",
        "    class_mode='categorical'  # Etiketler kategorik formatta olacak\n",
        ")\n",
        "\n",
        "# fer_test_data is now a generator that yields batches of test images and their labels\n",
        "fer_test_data"
      ],
      "metadata": {
        "colab": {
          "base_uri": "https://localhost:8080/"
        },
        "id": "Y4c5arbP27Va",
        "outputId": "6a6c8840-4e6a-4cf5-eda8-8ff897d96b02"
      },
      "execution_count": null,
      "outputs": [
        {
          "output_type": "stream",
          "name": "stdout",
          "text": [
            "Found 10337 images belonging to 7 classes.\n"
          ]
        },
        {
          "output_type": "execute_result",
          "data": {
            "text/plain": [
              "<keras.src.legacy.preprocessing.image.DirectoryIterator at 0x7814cb9d7fa0>"
            ]
          },
          "metadata": {},
          "execution_count": 7
        }
      ]
    },
    {
      "cell_type": "code",
      "source": [
        "# TensorFlow'un Keras kütüphanesinden optimizasyon modülünü içe aktar\n",
        "from tensorflow.keras import optimizers\n",
        "\n",
        "# Farklı optimizasyon algoritmalarını belirli ayarlarla tanımlayan bir liste oluştur\n",
        "optims = [\n",
        "    # Nadam optimizasyon algoritması (Adam + Nesterov hızlandırması)\n",
        "    optimizers.Nadam(\n",
        "        learning_rate=0.001,  # Öğrenme oranı (modelin ne kadar hızlı öğreneceğini belirler)\n",
        "        beta_1=0.9,  # İlk moment tahmini için momentum parametresi\n",
        "        beta_2=0.999,  # İkinci moment tahmini için momentum parametresi\n",
        "        epsilon=1e-07,  # Sayısal kararlılığı artırmak için küçük sabit bir değer\n",
        "        name='Nadam'  # Optimizatörün adı\n",
        "    ),\n",
        "    # Adam optimizasyon algoritması (momentum ve adaptif öğrenme oranı kullanan bir optimizatör)\n",
        "    optimizers.Adam(\n",
        "        learning_rate=0.001  # Öğrenme oranı\n",
        "    ),\n",
        "]"
      ],
      "metadata": {
        "id": "9D1u3FXD3W_v"
      },
      "execution_count": null,
      "outputs": []
    },
    {
      "cell_type": "code",
      "source": [
        "# Keras'tan Sequential modeli ve katmanlar içe aktarılıyor\n",
        "from keras.models import Sequential\n",
        "from keras.layers import Conv2D, MaxPooling2D, Flatten, Dense, Dropout, BatchNormalization\n",
        "\n",
        "# Ardışık bir model oluşturuluyor\n",
        "model = Sequential()\n",
        "\n",
        "# İlk Conv2D katmanı: 512 filtre, 5x5 çekirdek boyutu, ELU aktivasyonu\n",
        "model.add(\n",
        "        Conv2D(\n",
        "            filters=512,\n",
        "            kernel_size=(5,5),\n",
        "            input_shape=(48, 48, 1),  # Giriş boyutu (48x48, tek kanallı görüntü)\n",
        "            activation='elu',\n",
        "            padding='same',  # Kenar doldurma\n",
        "            kernel_initializer='he_normal',  # Ağırlıkların He normalizasyonu ile başlatılması\n",
        "            name='conv2d_1'\n",
        "        )\n",
        "    )\n",
        "model.add(BatchNormalization(name='batchnorm_1'))  # Batch Normalization ile ağırlıklar normalize edilir\n",
        "\n",
        "# İkinci Conv2D katmanı: 256 filtre, 5x5 çekirdek boyutu\n",
        "model.add(\n",
        "        Conv2D(\n",
        "            filters=256,\n",
        "            kernel_size=(5,5),\n",
        "            activation='elu',\n",
        "            padding='same',\n",
        "            kernel_initializer='he_normal',\n",
        "            name='conv2d_2'\n",
        "        )\n",
        "    )\n",
        "model.add(BatchNormalization(name='batchnorm_2'))  # Normalizasyon\n",
        "\n",
        "# Maksimum havuzlama ve Dropout uygulanıyor\n",
        "model.add(MaxPooling2D(pool_size=(2,2), name='maxpool2d_1'))\n",
        "model.add(Dropout(0.25, name='dropout_1'))  # Overfitting'i önlemek için %25 Dropout\n",
        "\n",
        "# Daha küçük filtrelerle (3x3) Conv2D katmanları\n",
        "model.add(\n",
        "        Conv2D(\n",
        "            filters=128,\n",
        "            kernel_size=(3,3),\n",
        "            activation='elu',\n",
        "            padding='same',\n",
        "            kernel_initializer='he_normal',\n",
        "            name='conv2d_3'\n",
        "        )\n",
        "    )\n",
        "model.add(BatchNormalization(name='batchnorm_3'))\n",
        "model.add(\n",
        "        Conv2D(\n",
        "            filters=128,\n",
        "            kernel_size=(3,3),\n",
        "            activation='elu',\n",
        "            padding='same',\n",
        "            kernel_initializer='he_normal',\n",
        "            name='conv2d_4'\n",
        "        )\n",
        "    )\n",
        "model.add(BatchNormalization(name='batchnorm_4'))\n",
        "\n",
        "# Havuzlama ve Dropout tekrar uygulanıyor\n",
        "model.add(MaxPooling2D(pool_size=(2,2), name='maxpool2d_2'))\n",
        "model.add(Dropout(0.25, name='dropout_2'))\n",
        "\n",
        "# Daha fazla Conv2D katmanı, 256 ve 512 filtreler\n",
        "model.add(\n",
        "        Conv2D(\n",
        "            filters=256,\n",
        "            kernel_size=(3,3),\n",
        "            activation='elu',\n",
        "            padding='same',\n",
        "            kernel_initializer='he_normal',\n",
        "            name='conv2d_5'\n",
        "        )\n",
        "    )\n",
        "model.add(BatchNormalization(name='batchnorm_5'))\n",
        "model.add(\n",
        "        Conv2D(\n",
        "            filters=512,\n",
        "            kernel_size=(3,3),\n",
        "            activation='elu',\n",
        "            padding='same',\n",
        "            kernel_initializer='he_normal',\n",
        "            name='conv2d_6'\n",
        "        )\n",
        "    )\n",
        "model.add(BatchNormalization(name='batchnorm_6'))\n",
        "\n",
        "# Son havuzlama ve Dropout\n",
        "model.add(MaxPooling2D(pool_size=(2,2), name='maxpool2d_3'))\n",
        "model.add(Dropout(0.25, name='dropout_3'))\n",
        "\n",
        "# Model düzleştirilip tam bağlantılı katmanlara geçirilir\n",
        "model.add(Flatten(name='flatten'))\n",
        "\n",
        "# Yoğun katman: 256 nöron, ELU aktivasyonu\n",
        "model.add(\n",
        "        Dense(\n",
        "            256,\n",
        "            activation='elu',\n",
        "            kernel_initializer='he_normal',\n",
        "            name='dense_1'\n",
        "        )\n",
        "    )\n",
        "model.add(BatchNormalization(name='batchnorm_7'))\n",
        "model.add(Dropout(0.25, name='dropout_4'))\n",
        "\n",
        "# Çıkış katmanı: 7 sınıf için softmax aktivasyonu\n",
        "model.add(\n",
        "        Dense(\n",
        "            7,\n",
        "            activation='softmax',  # Çok sınıflı sınıflandırma için softmax\n",
        "            name='out_layer'\n",
        "        )\n",
        "    )\n",
        "\n",
        "# Model derleniyor: Kayıp fonksiyonu, optimizasyon ve metrikler belirtiliyor\n",
        "model.compile(\n",
        "        loss='categorical_crossentropy',  # Çok sınıflı sınıflandırma için uygun kayıp fonksiyonu\n",
        "        optimizer='adam',  # Adam optimizatörü\n",
        "        metrics=['accuracy']  # Doğruluk metriği\n",
        "    )\n",
        "\n",
        "model.summary()"
      ],
      "metadata": {
        "colab": {
          "base_uri": "https://localhost:8080/",
          "height": 961
        },
        "id": "VSfqTKwe3YpL",
        "outputId": "1445223d-1695-4da0-cef1-bb5c0f834248"
      },
      "execution_count": null,
      "outputs": [
        {
          "output_type": "stream",
          "name": "stderr",
          "text": [
            "/usr/local/lib/python3.10/dist-packages/keras/src/layers/convolutional/base_conv.py:107: UserWarning: Do not pass an `input_shape`/`input_dim` argument to a layer. When using Sequential models, prefer using an `Input(shape)` object as the first layer in the model instead.\n",
            "  super().__init__(activity_regularizer=activity_regularizer, **kwargs)\n"
          ]
        },
        {
          "output_type": "display_data",
          "data": {
            "text/plain": [
              "\u001b[1mModel: \"sequential\"\u001b[0m\n"
            ],
            "text/html": [
              "<pre style=\"white-space:pre;overflow-x:auto;line-height:normal;font-family:Menlo,'DejaVu Sans Mono',consolas,'Courier New',monospace\"><span style=\"font-weight: bold\">Model: \"sequential\"</span>\n",
              "</pre>\n"
            ]
          },
          "metadata": {}
        },
        {
          "output_type": "display_data",
          "data": {
            "text/plain": [
              "┏━━━━━━━━━━━━━━━━━━━━━━━━━━━━━━━━━━━━━━┳━━━━━━━━━━━━━━━━━━━━━━━━━━━━━┳━━━━━━━━━━━━━━━━━┓\n",
              "┃\u001b[1m \u001b[0m\u001b[1mLayer (type)                        \u001b[0m\u001b[1m \u001b[0m┃\u001b[1m \u001b[0m\u001b[1mOutput Shape               \u001b[0m\u001b[1m \u001b[0m┃\u001b[1m \u001b[0m\u001b[1m        Param #\u001b[0m\u001b[1m \u001b[0m┃\n",
              "┡━━━━━━━━━━━━━━━━━━━━━━━━━━━━━━━━━━━━━━╇━━━━━━━━━━━━━━━━━━━━━━━━━━━━━╇━━━━━━━━━━━━━━━━━┩\n",
              "│ conv2d_1 (\u001b[38;5;33mConv2D\u001b[0m)                    │ (\u001b[38;5;45mNone\u001b[0m, \u001b[38;5;34m48\u001b[0m, \u001b[38;5;34m48\u001b[0m, \u001b[38;5;34m512\u001b[0m)         │          \u001b[38;5;34m13,312\u001b[0m │\n",
              "├──────────────────────────────────────┼─────────────────────────────┼─────────────────┤\n",
              "│ batchnorm_1 (\u001b[38;5;33mBatchNormalization\u001b[0m)     │ (\u001b[38;5;45mNone\u001b[0m, \u001b[38;5;34m48\u001b[0m, \u001b[38;5;34m48\u001b[0m, \u001b[38;5;34m512\u001b[0m)         │           \u001b[38;5;34m2,048\u001b[0m │\n",
              "├──────────────────────────────────────┼─────────────────────────────┼─────────────────┤\n",
              "│ conv2d_2 (\u001b[38;5;33mConv2D\u001b[0m)                    │ (\u001b[38;5;45mNone\u001b[0m, \u001b[38;5;34m48\u001b[0m, \u001b[38;5;34m48\u001b[0m, \u001b[38;5;34m256\u001b[0m)         │       \u001b[38;5;34m3,277,056\u001b[0m │\n",
              "├──────────────────────────────────────┼─────────────────────────────┼─────────────────┤\n",
              "│ batchnorm_2 (\u001b[38;5;33mBatchNormalization\u001b[0m)     │ (\u001b[38;5;45mNone\u001b[0m, \u001b[38;5;34m48\u001b[0m, \u001b[38;5;34m48\u001b[0m, \u001b[38;5;34m256\u001b[0m)         │           \u001b[38;5;34m1,024\u001b[0m │\n",
              "├──────────────────────────────────────┼─────────────────────────────┼─────────────────┤\n",
              "│ maxpool2d_1 (\u001b[38;5;33mMaxPooling2D\u001b[0m)           │ (\u001b[38;5;45mNone\u001b[0m, \u001b[38;5;34m24\u001b[0m, \u001b[38;5;34m24\u001b[0m, \u001b[38;5;34m256\u001b[0m)         │               \u001b[38;5;34m0\u001b[0m │\n",
              "├──────────────────────────────────────┼─────────────────────────────┼─────────────────┤\n",
              "│ dropout_1 (\u001b[38;5;33mDropout\u001b[0m)                  │ (\u001b[38;5;45mNone\u001b[0m, \u001b[38;5;34m24\u001b[0m, \u001b[38;5;34m24\u001b[0m, \u001b[38;5;34m256\u001b[0m)         │               \u001b[38;5;34m0\u001b[0m │\n",
              "├──────────────────────────────────────┼─────────────────────────────┼─────────────────┤\n",
              "│ conv2d_3 (\u001b[38;5;33mConv2D\u001b[0m)                    │ (\u001b[38;5;45mNone\u001b[0m, \u001b[38;5;34m24\u001b[0m, \u001b[38;5;34m24\u001b[0m, \u001b[38;5;34m128\u001b[0m)         │         \u001b[38;5;34m295,040\u001b[0m │\n",
              "├──────────────────────────────────────┼─────────────────────────────┼─────────────────┤\n",
              "│ batchnorm_3 (\u001b[38;5;33mBatchNormalization\u001b[0m)     │ (\u001b[38;5;45mNone\u001b[0m, \u001b[38;5;34m24\u001b[0m, \u001b[38;5;34m24\u001b[0m, \u001b[38;5;34m128\u001b[0m)         │             \u001b[38;5;34m512\u001b[0m │\n",
              "├──────────────────────────────────────┼─────────────────────────────┼─────────────────┤\n",
              "│ conv2d_4 (\u001b[38;5;33mConv2D\u001b[0m)                    │ (\u001b[38;5;45mNone\u001b[0m, \u001b[38;5;34m24\u001b[0m, \u001b[38;5;34m24\u001b[0m, \u001b[38;5;34m128\u001b[0m)         │         \u001b[38;5;34m147,584\u001b[0m │\n",
              "├──────────────────────────────────────┼─────────────────────────────┼─────────────────┤\n",
              "│ batchnorm_4 (\u001b[38;5;33mBatchNormalization\u001b[0m)     │ (\u001b[38;5;45mNone\u001b[0m, \u001b[38;5;34m24\u001b[0m, \u001b[38;5;34m24\u001b[0m, \u001b[38;5;34m128\u001b[0m)         │             \u001b[38;5;34m512\u001b[0m │\n",
              "├──────────────────────────────────────┼─────────────────────────────┼─────────────────┤\n",
              "│ maxpool2d_2 (\u001b[38;5;33mMaxPooling2D\u001b[0m)           │ (\u001b[38;5;45mNone\u001b[0m, \u001b[38;5;34m12\u001b[0m, \u001b[38;5;34m12\u001b[0m, \u001b[38;5;34m128\u001b[0m)         │               \u001b[38;5;34m0\u001b[0m │\n",
              "├──────────────────────────────────────┼─────────────────────────────┼─────────────────┤\n",
              "│ dropout_2 (\u001b[38;5;33mDropout\u001b[0m)                  │ (\u001b[38;5;45mNone\u001b[0m, \u001b[38;5;34m12\u001b[0m, \u001b[38;5;34m12\u001b[0m, \u001b[38;5;34m128\u001b[0m)         │               \u001b[38;5;34m0\u001b[0m │\n",
              "├──────────────────────────────────────┼─────────────────────────────┼─────────────────┤\n",
              "│ conv2d_5 (\u001b[38;5;33mConv2D\u001b[0m)                    │ (\u001b[38;5;45mNone\u001b[0m, \u001b[38;5;34m12\u001b[0m, \u001b[38;5;34m12\u001b[0m, \u001b[38;5;34m256\u001b[0m)         │         \u001b[38;5;34m295,168\u001b[0m │\n",
              "├──────────────────────────────────────┼─────────────────────────────┼─────────────────┤\n",
              "│ batchnorm_5 (\u001b[38;5;33mBatchNormalization\u001b[0m)     │ (\u001b[38;5;45mNone\u001b[0m, \u001b[38;5;34m12\u001b[0m, \u001b[38;5;34m12\u001b[0m, \u001b[38;5;34m256\u001b[0m)         │           \u001b[38;5;34m1,024\u001b[0m │\n",
              "├──────────────────────────────────────┼─────────────────────────────┼─────────────────┤\n",
              "│ conv2d_6 (\u001b[38;5;33mConv2D\u001b[0m)                    │ (\u001b[38;5;45mNone\u001b[0m, \u001b[38;5;34m12\u001b[0m, \u001b[38;5;34m12\u001b[0m, \u001b[38;5;34m512\u001b[0m)         │       \u001b[38;5;34m1,180,160\u001b[0m │\n",
              "├──────────────────────────────────────┼─────────────────────────────┼─────────────────┤\n",
              "│ batchnorm_6 (\u001b[38;5;33mBatchNormalization\u001b[0m)     │ (\u001b[38;5;45mNone\u001b[0m, \u001b[38;5;34m12\u001b[0m, \u001b[38;5;34m12\u001b[0m, \u001b[38;5;34m512\u001b[0m)         │           \u001b[38;5;34m2,048\u001b[0m │\n",
              "├──────────────────────────────────────┼─────────────────────────────┼─────────────────┤\n",
              "│ maxpool2d_3 (\u001b[38;5;33mMaxPooling2D\u001b[0m)           │ (\u001b[38;5;45mNone\u001b[0m, \u001b[38;5;34m6\u001b[0m, \u001b[38;5;34m6\u001b[0m, \u001b[38;5;34m512\u001b[0m)           │               \u001b[38;5;34m0\u001b[0m │\n",
              "├──────────────────────────────────────┼─────────────────────────────┼─────────────────┤\n",
              "│ dropout_3 (\u001b[38;5;33mDropout\u001b[0m)                  │ (\u001b[38;5;45mNone\u001b[0m, \u001b[38;5;34m6\u001b[0m, \u001b[38;5;34m6\u001b[0m, \u001b[38;5;34m512\u001b[0m)           │               \u001b[38;5;34m0\u001b[0m │\n",
              "├──────────────────────────────────────┼─────────────────────────────┼─────────────────┤\n",
              "│ flatten (\u001b[38;5;33mFlatten\u001b[0m)                    │ (\u001b[38;5;45mNone\u001b[0m, \u001b[38;5;34m18432\u001b[0m)               │               \u001b[38;5;34m0\u001b[0m │\n",
              "├──────────────────────────────────────┼─────────────────────────────┼─────────────────┤\n",
              "│ dense_1 (\u001b[38;5;33mDense\u001b[0m)                      │ (\u001b[38;5;45mNone\u001b[0m, \u001b[38;5;34m256\u001b[0m)                 │       \u001b[38;5;34m4,718,848\u001b[0m │\n",
              "├──────────────────────────────────────┼─────────────────────────────┼─────────────────┤\n",
              "│ batchnorm_7 (\u001b[38;5;33mBatchNormalization\u001b[0m)     │ (\u001b[38;5;45mNone\u001b[0m, \u001b[38;5;34m256\u001b[0m)                 │           \u001b[38;5;34m1,024\u001b[0m │\n",
              "├──────────────────────────────────────┼─────────────────────────────┼─────────────────┤\n",
              "│ dropout_4 (\u001b[38;5;33mDropout\u001b[0m)                  │ (\u001b[38;5;45mNone\u001b[0m, \u001b[38;5;34m256\u001b[0m)                 │               \u001b[38;5;34m0\u001b[0m │\n",
              "├──────────────────────────────────────┼─────────────────────────────┼─────────────────┤\n",
              "│ out_layer (\u001b[38;5;33mDense\u001b[0m)                    │ (\u001b[38;5;45mNone\u001b[0m, \u001b[38;5;34m7\u001b[0m)                   │           \u001b[38;5;34m1,799\u001b[0m │\n",
              "└──────────────────────────────────────┴─────────────────────────────┴─────────────────┘\n"
            ],
            "text/html": [
              "<pre style=\"white-space:pre;overflow-x:auto;line-height:normal;font-family:Menlo,'DejaVu Sans Mono',consolas,'Courier New',monospace\">┏━━━━━━━━━━━━━━━━━━━━━━━━━━━━━━━━━━━━━━┳━━━━━━━━━━━━━━━━━━━━━━━━━━━━━┳━━━━━━━━━━━━━━━━━┓\n",
              "┃<span style=\"font-weight: bold\"> Layer (type)                         </span>┃<span style=\"font-weight: bold\"> Output Shape                </span>┃<span style=\"font-weight: bold\">         Param # </span>┃\n",
              "┡━━━━━━━━━━━━━━━━━━━━━━━━━━━━━━━━━━━━━━╇━━━━━━━━━━━━━━━━━━━━━━━━━━━━━╇━━━━━━━━━━━━━━━━━┩\n",
              "│ conv2d_1 (<span style=\"color: #0087ff; text-decoration-color: #0087ff\">Conv2D</span>)                    │ (<span style=\"color: #00d7ff; text-decoration-color: #00d7ff\">None</span>, <span style=\"color: #00af00; text-decoration-color: #00af00\">48</span>, <span style=\"color: #00af00; text-decoration-color: #00af00\">48</span>, <span style=\"color: #00af00; text-decoration-color: #00af00\">512</span>)         │          <span style=\"color: #00af00; text-decoration-color: #00af00\">13,312</span> │\n",
              "├──────────────────────────────────────┼─────────────────────────────┼─────────────────┤\n",
              "│ batchnorm_1 (<span style=\"color: #0087ff; text-decoration-color: #0087ff\">BatchNormalization</span>)     │ (<span style=\"color: #00d7ff; text-decoration-color: #00d7ff\">None</span>, <span style=\"color: #00af00; text-decoration-color: #00af00\">48</span>, <span style=\"color: #00af00; text-decoration-color: #00af00\">48</span>, <span style=\"color: #00af00; text-decoration-color: #00af00\">512</span>)         │           <span style=\"color: #00af00; text-decoration-color: #00af00\">2,048</span> │\n",
              "├──────────────────────────────────────┼─────────────────────────────┼─────────────────┤\n",
              "│ conv2d_2 (<span style=\"color: #0087ff; text-decoration-color: #0087ff\">Conv2D</span>)                    │ (<span style=\"color: #00d7ff; text-decoration-color: #00d7ff\">None</span>, <span style=\"color: #00af00; text-decoration-color: #00af00\">48</span>, <span style=\"color: #00af00; text-decoration-color: #00af00\">48</span>, <span style=\"color: #00af00; text-decoration-color: #00af00\">256</span>)         │       <span style=\"color: #00af00; text-decoration-color: #00af00\">3,277,056</span> │\n",
              "├──────────────────────────────────────┼─────────────────────────────┼─────────────────┤\n",
              "│ batchnorm_2 (<span style=\"color: #0087ff; text-decoration-color: #0087ff\">BatchNormalization</span>)     │ (<span style=\"color: #00d7ff; text-decoration-color: #00d7ff\">None</span>, <span style=\"color: #00af00; text-decoration-color: #00af00\">48</span>, <span style=\"color: #00af00; text-decoration-color: #00af00\">48</span>, <span style=\"color: #00af00; text-decoration-color: #00af00\">256</span>)         │           <span style=\"color: #00af00; text-decoration-color: #00af00\">1,024</span> │\n",
              "├──────────────────────────────────────┼─────────────────────────────┼─────────────────┤\n",
              "│ maxpool2d_1 (<span style=\"color: #0087ff; text-decoration-color: #0087ff\">MaxPooling2D</span>)           │ (<span style=\"color: #00d7ff; text-decoration-color: #00d7ff\">None</span>, <span style=\"color: #00af00; text-decoration-color: #00af00\">24</span>, <span style=\"color: #00af00; text-decoration-color: #00af00\">24</span>, <span style=\"color: #00af00; text-decoration-color: #00af00\">256</span>)         │               <span style=\"color: #00af00; text-decoration-color: #00af00\">0</span> │\n",
              "├──────────────────────────────────────┼─────────────────────────────┼─────────────────┤\n",
              "│ dropout_1 (<span style=\"color: #0087ff; text-decoration-color: #0087ff\">Dropout</span>)                  │ (<span style=\"color: #00d7ff; text-decoration-color: #00d7ff\">None</span>, <span style=\"color: #00af00; text-decoration-color: #00af00\">24</span>, <span style=\"color: #00af00; text-decoration-color: #00af00\">24</span>, <span style=\"color: #00af00; text-decoration-color: #00af00\">256</span>)         │               <span style=\"color: #00af00; text-decoration-color: #00af00\">0</span> │\n",
              "├──────────────────────────────────────┼─────────────────────────────┼─────────────────┤\n",
              "│ conv2d_3 (<span style=\"color: #0087ff; text-decoration-color: #0087ff\">Conv2D</span>)                    │ (<span style=\"color: #00d7ff; text-decoration-color: #00d7ff\">None</span>, <span style=\"color: #00af00; text-decoration-color: #00af00\">24</span>, <span style=\"color: #00af00; text-decoration-color: #00af00\">24</span>, <span style=\"color: #00af00; text-decoration-color: #00af00\">128</span>)         │         <span style=\"color: #00af00; text-decoration-color: #00af00\">295,040</span> │\n",
              "├──────────────────────────────────────┼─────────────────────────────┼─────────────────┤\n",
              "│ batchnorm_3 (<span style=\"color: #0087ff; text-decoration-color: #0087ff\">BatchNormalization</span>)     │ (<span style=\"color: #00d7ff; text-decoration-color: #00d7ff\">None</span>, <span style=\"color: #00af00; text-decoration-color: #00af00\">24</span>, <span style=\"color: #00af00; text-decoration-color: #00af00\">24</span>, <span style=\"color: #00af00; text-decoration-color: #00af00\">128</span>)         │             <span style=\"color: #00af00; text-decoration-color: #00af00\">512</span> │\n",
              "├──────────────────────────────────────┼─────────────────────────────┼─────────────────┤\n",
              "│ conv2d_4 (<span style=\"color: #0087ff; text-decoration-color: #0087ff\">Conv2D</span>)                    │ (<span style=\"color: #00d7ff; text-decoration-color: #00d7ff\">None</span>, <span style=\"color: #00af00; text-decoration-color: #00af00\">24</span>, <span style=\"color: #00af00; text-decoration-color: #00af00\">24</span>, <span style=\"color: #00af00; text-decoration-color: #00af00\">128</span>)         │         <span style=\"color: #00af00; text-decoration-color: #00af00\">147,584</span> │\n",
              "├──────────────────────────────────────┼─────────────────────────────┼─────────────────┤\n",
              "│ batchnorm_4 (<span style=\"color: #0087ff; text-decoration-color: #0087ff\">BatchNormalization</span>)     │ (<span style=\"color: #00d7ff; text-decoration-color: #00d7ff\">None</span>, <span style=\"color: #00af00; text-decoration-color: #00af00\">24</span>, <span style=\"color: #00af00; text-decoration-color: #00af00\">24</span>, <span style=\"color: #00af00; text-decoration-color: #00af00\">128</span>)         │             <span style=\"color: #00af00; text-decoration-color: #00af00\">512</span> │\n",
              "├──────────────────────────────────────┼─────────────────────────────┼─────────────────┤\n",
              "│ maxpool2d_2 (<span style=\"color: #0087ff; text-decoration-color: #0087ff\">MaxPooling2D</span>)           │ (<span style=\"color: #00d7ff; text-decoration-color: #00d7ff\">None</span>, <span style=\"color: #00af00; text-decoration-color: #00af00\">12</span>, <span style=\"color: #00af00; text-decoration-color: #00af00\">12</span>, <span style=\"color: #00af00; text-decoration-color: #00af00\">128</span>)         │               <span style=\"color: #00af00; text-decoration-color: #00af00\">0</span> │\n",
              "├──────────────────────────────────────┼─────────────────────────────┼─────────────────┤\n",
              "│ dropout_2 (<span style=\"color: #0087ff; text-decoration-color: #0087ff\">Dropout</span>)                  │ (<span style=\"color: #00d7ff; text-decoration-color: #00d7ff\">None</span>, <span style=\"color: #00af00; text-decoration-color: #00af00\">12</span>, <span style=\"color: #00af00; text-decoration-color: #00af00\">12</span>, <span style=\"color: #00af00; text-decoration-color: #00af00\">128</span>)         │               <span style=\"color: #00af00; text-decoration-color: #00af00\">0</span> │\n",
              "├──────────────────────────────────────┼─────────────────────────────┼─────────────────┤\n",
              "│ conv2d_5 (<span style=\"color: #0087ff; text-decoration-color: #0087ff\">Conv2D</span>)                    │ (<span style=\"color: #00d7ff; text-decoration-color: #00d7ff\">None</span>, <span style=\"color: #00af00; text-decoration-color: #00af00\">12</span>, <span style=\"color: #00af00; text-decoration-color: #00af00\">12</span>, <span style=\"color: #00af00; text-decoration-color: #00af00\">256</span>)         │         <span style=\"color: #00af00; text-decoration-color: #00af00\">295,168</span> │\n",
              "├──────────────────────────────────────┼─────────────────────────────┼─────────────────┤\n",
              "│ batchnorm_5 (<span style=\"color: #0087ff; text-decoration-color: #0087ff\">BatchNormalization</span>)     │ (<span style=\"color: #00d7ff; text-decoration-color: #00d7ff\">None</span>, <span style=\"color: #00af00; text-decoration-color: #00af00\">12</span>, <span style=\"color: #00af00; text-decoration-color: #00af00\">12</span>, <span style=\"color: #00af00; text-decoration-color: #00af00\">256</span>)         │           <span style=\"color: #00af00; text-decoration-color: #00af00\">1,024</span> │\n",
              "├──────────────────────────────────────┼─────────────────────────────┼─────────────────┤\n",
              "│ conv2d_6 (<span style=\"color: #0087ff; text-decoration-color: #0087ff\">Conv2D</span>)                    │ (<span style=\"color: #00d7ff; text-decoration-color: #00d7ff\">None</span>, <span style=\"color: #00af00; text-decoration-color: #00af00\">12</span>, <span style=\"color: #00af00; text-decoration-color: #00af00\">12</span>, <span style=\"color: #00af00; text-decoration-color: #00af00\">512</span>)         │       <span style=\"color: #00af00; text-decoration-color: #00af00\">1,180,160</span> │\n",
              "├──────────────────────────────────────┼─────────────────────────────┼─────────────────┤\n",
              "│ batchnorm_6 (<span style=\"color: #0087ff; text-decoration-color: #0087ff\">BatchNormalization</span>)     │ (<span style=\"color: #00d7ff; text-decoration-color: #00d7ff\">None</span>, <span style=\"color: #00af00; text-decoration-color: #00af00\">12</span>, <span style=\"color: #00af00; text-decoration-color: #00af00\">12</span>, <span style=\"color: #00af00; text-decoration-color: #00af00\">512</span>)         │           <span style=\"color: #00af00; text-decoration-color: #00af00\">2,048</span> │\n",
              "├──────────────────────────────────────┼─────────────────────────────┼─────────────────┤\n",
              "│ maxpool2d_3 (<span style=\"color: #0087ff; text-decoration-color: #0087ff\">MaxPooling2D</span>)           │ (<span style=\"color: #00d7ff; text-decoration-color: #00d7ff\">None</span>, <span style=\"color: #00af00; text-decoration-color: #00af00\">6</span>, <span style=\"color: #00af00; text-decoration-color: #00af00\">6</span>, <span style=\"color: #00af00; text-decoration-color: #00af00\">512</span>)           │               <span style=\"color: #00af00; text-decoration-color: #00af00\">0</span> │\n",
              "├──────────────────────────────────────┼─────────────────────────────┼─────────────────┤\n",
              "│ dropout_3 (<span style=\"color: #0087ff; text-decoration-color: #0087ff\">Dropout</span>)                  │ (<span style=\"color: #00d7ff; text-decoration-color: #00d7ff\">None</span>, <span style=\"color: #00af00; text-decoration-color: #00af00\">6</span>, <span style=\"color: #00af00; text-decoration-color: #00af00\">6</span>, <span style=\"color: #00af00; text-decoration-color: #00af00\">512</span>)           │               <span style=\"color: #00af00; text-decoration-color: #00af00\">0</span> │\n",
              "├──────────────────────────────────────┼─────────────────────────────┼─────────────────┤\n",
              "│ flatten (<span style=\"color: #0087ff; text-decoration-color: #0087ff\">Flatten</span>)                    │ (<span style=\"color: #00d7ff; text-decoration-color: #00d7ff\">None</span>, <span style=\"color: #00af00; text-decoration-color: #00af00\">18432</span>)               │               <span style=\"color: #00af00; text-decoration-color: #00af00\">0</span> │\n",
              "├──────────────────────────────────────┼─────────────────────────────┼─────────────────┤\n",
              "│ dense_1 (<span style=\"color: #0087ff; text-decoration-color: #0087ff\">Dense</span>)                      │ (<span style=\"color: #00d7ff; text-decoration-color: #00d7ff\">None</span>, <span style=\"color: #00af00; text-decoration-color: #00af00\">256</span>)                 │       <span style=\"color: #00af00; text-decoration-color: #00af00\">4,718,848</span> │\n",
              "├──────────────────────────────────────┼─────────────────────────────┼─────────────────┤\n",
              "│ batchnorm_7 (<span style=\"color: #0087ff; text-decoration-color: #0087ff\">BatchNormalization</span>)     │ (<span style=\"color: #00d7ff; text-decoration-color: #00d7ff\">None</span>, <span style=\"color: #00af00; text-decoration-color: #00af00\">256</span>)                 │           <span style=\"color: #00af00; text-decoration-color: #00af00\">1,024</span> │\n",
              "├──────────────────────────────────────┼─────────────────────────────┼─────────────────┤\n",
              "│ dropout_4 (<span style=\"color: #0087ff; text-decoration-color: #0087ff\">Dropout</span>)                  │ (<span style=\"color: #00d7ff; text-decoration-color: #00d7ff\">None</span>, <span style=\"color: #00af00; text-decoration-color: #00af00\">256</span>)                 │               <span style=\"color: #00af00; text-decoration-color: #00af00\">0</span> │\n",
              "├──────────────────────────────────────┼─────────────────────────────┼─────────────────┤\n",
              "│ out_layer (<span style=\"color: #0087ff; text-decoration-color: #0087ff\">Dense</span>)                    │ (<span style=\"color: #00d7ff; text-decoration-color: #00d7ff\">None</span>, <span style=\"color: #00af00; text-decoration-color: #00af00\">7</span>)                   │           <span style=\"color: #00af00; text-decoration-color: #00af00\">1,799</span> │\n",
              "└──────────────────────────────────────┴─────────────────────────────┴─────────────────┘\n",
              "</pre>\n"
            ]
          },
          "metadata": {}
        },
        {
          "output_type": "display_data",
          "data": {
            "text/plain": [
              "\u001b[1m Total params: \u001b[0m\u001b[38;5;34m9,937,159\u001b[0m (37.91 MB)\n"
            ],
            "text/html": [
              "<pre style=\"white-space:pre;overflow-x:auto;line-height:normal;font-family:Menlo,'DejaVu Sans Mono',consolas,'Courier New',monospace\"><span style=\"font-weight: bold\"> Total params: </span><span style=\"color: #00af00; text-decoration-color: #00af00\">9,937,159</span> (37.91 MB)\n",
              "</pre>\n"
            ]
          },
          "metadata": {}
        },
        {
          "output_type": "display_data",
          "data": {
            "text/plain": [
              "\u001b[1m Trainable params: \u001b[0m\u001b[38;5;34m9,933,063\u001b[0m (37.89 MB)\n"
            ],
            "text/html": [
              "<pre style=\"white-space:pre;overflow-x:auto;line-height:normal;font-family:Menlo,'DejaVu Sans Mono',consolas,'Courier New',monospace\"><span style=\"font-weight: bold\"> Trainable params: </span><span style=\"color: #00af00; text-decoration-color: #00af00\">9,933,063</span> (37.89 MB)\n",
              "</pre>\n"
            ]
          },
          "metadata": {}
        },
        {
          "output_type": "display_data",
          "data": {
            "text/plain": [
              "\u001b[1m Non-trainable params: \u001b[0m\u001b[38;5;34m4,096\u001b[0m (16.00 KB)\n"
            ],
            "text/html": [
              "<pre style=\"white-space:pre;overflow-x:auto;line-height:normal;font-family:Menlo,'DejaVu Sans Mono',consolas,'Courier New',monospace\"><span style=\"font-weight: bold\"> Non-trainable params: </span><span style=\"color: #00af00; text-decoration-color: #00af00\">4,096</span> (16.00 KB)\n",
              "</pre>\n"
            ]
          },
          "metadata": {}
        }
      ]
    },
    {
      "cell_type": "code",
      "source": [
        "# Model eğitimi sırasında erken durdurma (EarlyStopping) mekanizması tanımlanıyor.\n",
        "early_stopping = EarlyStopping(\n",
        "    monitor='val_accuracy',           # İzlenecek metrik: doğrulama doğruluğu (val_accuracy)\n",
        "    min_delta=0.00005,                # İyileşme miktarı, bu değerin altındaki değişimler göz ardı edilir\n",
        "    patience=11,                      # Modelin iyileşme göstermediği dönem sayısı (epoch) beklenir\n",
        "    verbose=1,                        # Konsola bilgi yazdırma seviyesi\n",
        "    restore_best_weights=True,        # En iyi ağırlıklar, eğitim sonunda otomatik olarak yüklenir\n",
        ")\n",
        "\n",
        "# Öğrenme oranını (learning rate) dinamik olarak azaltmak için bir mekanizma tanımlanıyor.\n",
        "lr_scheduler = ReduceLROnPlateau(\n",
        "    monitor='val_accuracy',           # İzlenecek metrik: doğrulama doğruluğu (val_accuracy)\n",
        "    factor=0.5,                       # Öğrenme oranı bu faktörle çarpılarak azaltılır\n",
        "    patience=7,                       # Öğrenme oranı ancak belirtilen epoch sayısı boyunca iyileşme olmazsa azaltılır\n",
        "    min_lr=1e-7,                      # Öğrenme oranının ulaşabileceği en düşük değer\n",
        "    verbose=1,                        # Konsola bilgi yazdırma seviyesi\n",
        ")\n",
        "\n",
        "# Callback fonksiyonları bir listeye ekleniyor\n",
        "callbacks = [\n",
        "    early_stopping,                   # Erken durdurma mekanizması\n",
        "    lr_scheduler,                     # Öğrenme oranı azaltma mekanizması\n",
        "]"
      ],
      "metadata": {
        "id": "XxU5thKc3awl"
      },
      "execution_count": null,
      "outputs": []
    },
    {
      "cell_type": "code",
      "source": [
        "# Eğitim için batch boyutu belirleniyor\n",
        "batch_size = 64\n",
        "\n",
        "# Modelin eğitim süreci başlatılıyor\n",
        "history = model.fit(\n",
        "    fer_training_data,             # Eğitim verileri (Feature ve Label çiftleri)\n",
        "    epochs=70,                     # Toplam eğitim döngüsü (epoch) sayısı\n",
        "    validation_data=fer_test_data, # Doğrulama verileri, modelin doğruluğu bu veri üzerinde kontrol edilir\n",
        "    batch_size=64,                 # Her bir batch'teki veri miktarı\n",
        "    callbacks=callbacks,           # Eğitim sırasında uygulanacak callback fonksiyonları (ör. EarlyStopping, ReduceLROnPlateau)\n",
        ")"
      ],
      "metadata": {
        "colab": {
          "base_uri": "https://localhost:8080/"
        },
        "id": "sxoTgg3S3c0Q",
        "outputId": "9ecd4688-6cfe-4094-9b6c-74dbef1e0965"
      },
      "execution_count": null,
      "outputs": [
        {
          "output_type": "stream",
          "name": "stdout",
          "text": [
            "Epoch 1/70\n"
          ]
        },
        {
          "output_type": "stream",
          "name": "stderr",
          "text": [
            "/usr/local/lib/python3.10/dist-packages/keras/src/trainers/data_adapters/py_dataset_adapter.py:122: UserWarning: Your `PyDataset` class should call `super().__init__(**kwargs)` in its constructor. `**kwargs` can include `workers`, `use_multiprocessing`, `max_queue_size`. Do not pass these arguments to `fit()`, as they will be ignored.\n",
            "  self._warn_if_super_not_called()\n"
          ]
        },
        {
          "output_type": "stream",
          "name": "stdout",
          "text": [
            "\u001b[1m431/431\u001b[0m \u001b[32m━━━━━━━━━━━━━━━━━━━━\u001b[0m\u001b[37m\u001b[0m \u001b[1m67s\u001b[0m 95ms/step - accuracy: 0.2243 - loss: 2.1225 - val_accuracy: 0.3320 - val_loss: 1.7013 - learning_rate: 0.0010\n",
            "Epoch 2/70\n",
            "\u001b[1m431/431\u001b[0m \u001b[32m━━━━━━━━━━━━━━━━━━━━\u001b[0m\u001b[37m\u001b[0m \u001b[1m24s\u001b[0m 54ms/step - accuracy: 0.3161 - loss: 1.7281 - val_accuracy: 0.3996 - val_loss: 1.5529 - learning_rate: 0.0010\n",
            "Epoch 3/70\n",
            "\u001b[1m431/431\u001b[0m \u001b[32m━━━━━━━━━━━━━━━━━━━━\u001b[0m\u001b[37m\u001b[0m \u001b[1m24s\u001b[0m 54ms/step - accuracy: 0.4224 - loss: 1.4893 - val_accuracy: 0.4993 - val_loss: 1.2826 - learning_rate: 0.0010\n",
            "Epoch 4/70\n",
            "\u001b[1m431/431\u001b[0m \u001b[32m━━━━━━━━━━━━━━━━━━━━\u001b[0m\u001b[37m\u001b[0m \u001b[1m24s\u001b[0m 54ms/step - accuracy: 0.4910 - loss: 1.3386 - val_accuracy: 0.5184 - val_loss: 1.2473 - learning_rate: 0.0010\n",
            "Epoch 5/70\n",
            "\u001b[1m431/431\u001b[0m \u001b[32m━━━━━━━━━━━━━━━━━━━━\u001b[0m\u001b[37m\u001b[0m \u001b[1m24s\u001b[0m 54ms/step - accuracy: 0.5353 - loss: 1.2342 - val_accuracy: 0.5789 - val_loss: 1.1147 - learning_rate: 0.0010\n",
            "Epoch 6/70\n",
            "\u001b[1m431/431\u001b[0m \u001b[32m━━━━━━━━━━━━━━━━━━━━\u001b[0m\u001b[37m\u001b[0m \u001b[1m24s\u001b[0m 55ms/step - accuracy: 0.5448 - loss: 1.1899 - val_accuracy: 0.5982 - val_loss: 1.0645 - learning_rate: 0.0010\n",
            "Epoch 7/70\n",
            "\u001b[1m431/431\u001b[0m \u001b[32m━━━━━━━━━━━━━━━━━━━━\u001b[0m\u001b[37m\u001b[0m \u001b[1m23s\u001b[0m 53ms/step - accuracy: 0.5613 - loss: 1.1394 - val_accuracy: 0.5533 - val_loss: 1.2526 - learning_rate: 0.0010\n",
            "Epoch 8/70\n",
            "\u001b[1m431/431\u001b[0m \u001b[32m━━━━━━━━━━━━━━━━━━━━\u001b[0m\u001b[37m\u001b[0m \u001b[1m24s\u001b[0m 54ms/step - accuracy: 0.5802 - loss: 1.1096 - val_accuracy: 0.5974 - val_loss: 1.0611 - learning_rate: 0.0010\n",
            "Epoch 9/70\n",
            "\u001b[1m431/431\u001b[0m \u001b[32m━━━━━━━━━━━━━━━━━━━━\u001b[0m\u001b[37m\u001b[0m \u001b[1m24s\u001b[0m 54ms/step - accuracy: 0.5822 - loss: 1.1010 - val_accuracy: 0.6473 - val_loss: 0.9655 - learning_rate: 0.0010\n",
            "Epoch 10/70\n",
            "\u001b[1m431/431\u001b[0m \u001b[32m━━━━━━━━━━━━━━━━━━━━\u001b[0m\u001b[37m\u001b[0m \u001b[1m24s\u001b[0m 55ms/step - accuracy: 0.6001 - loss: 1.0615 - val_accuracy: 0.6400 - val_loss: 0.9688 - learning_rate: 0.0010\n",
            "Epoch 11/70\n",
            "\u001b[1m431/431\u001b[0m \u001b[32m━━━━━━━━━━━━━━━━━━━━\u001b[0m\u001b[37m\u001b[0m \u001b[1m24s\u001b[0m 54ms/step - accuracy: 0.6065 - loss: 1.0483 - val_accuracy: 0.6140 - val_loss: 1.0169 - learning_rate: 0.0010\n",
            "Epoch 12/70\n",
            "\u001b[1m431/431\u001b[0m \u001b[32m━━━━━━━━━━━━━━━━━━━━\u001b[0m\u001b[37m\u001b[0m \u001b[1m24s\u001b[0m 54ms/step - accuracy: 0.6156 - loss: 1.0257 - val_accuracy: 0.6253 - val_loss: 1.0092 - learning_rate: 0.0010\n",
            "Epoch 13/70\n",
            "\u001b[1m431/431\u001b[0m \u001b[32m━━━━━━━━━━━━━━━━━━━━\u001b[0m\u001b[37m\u001b[0m \u001b[1m24s\u001b[0m 55ms/step - accuracy: 0.6260 - loss: 1.0061 - val_accuracy: 0.6458 - val_loss: 0.9457 - learning_rate: 0.0010\n",
            "Epoch 14/70\n",
            "\u001b[1m431/431\u001b[0m \u001b[32m━━━━━━━━━━━━━━━━━━━━\u001b[0m\u001b[37m\u001b[0m \u001b[1m24s\u001b[0m 54ms/step - accuracy: 0.6296 - loss: 0.9852 - val_accuracy: 0.6718 - val_loss: 0.8908 - learning_rate: 0.0010\n",
            "Epoch 15/70\n",
            "\u001b[1m431/431\u001b[0m \u001b[32m━━━━━━━━━━━━━━━━━━━━\u001b[0m\u001b[37m\u001b[0m \u001b[1m24s\u001b[0m 55ms/step - accuracy: 0.6317 - loss: 0.9861 - val_accuracy: 0.6842 - val_loss: 0.9833 - learning_rate: 0.0010\n",
            "Epoch 16/70\n",
            "\u001b[1m431/431\u001b[0m \u001b[32m━━━━━━━━━━━━━━━━━━━━\u001b[0m\u001b[37m\u001b[0m \u001b[1m24s\u001b[0m 54ms/step - accuracy: 0.6387 - loss: 0.9545 - val_accuracy: 0.6613 - val_loss: 0.9327 - learning_rate: 0.0010\n",
            "Epoch 17/70\n",
            "\u001b[1m431/431\u001b[0m \u001b[32m━━━━━━━━━━━━━━━━━━━━\u001b[0m\u001b[37m\u001b[0m \u001b[1m24s\u001b[0m 54ms/step - accuracy: 0.6417 - loss: 0.9607 - val_accuracy: 0.6853 - val_loss: 0.8403 - learning_rate: 0.0010\n",
            "Epoch 18/70\n",
            "\u001b[1m431/431\u001b[0m \u001b[32m━━━━━━━━━━━━━━━━━━━━\u001b[0m\u001b[37m\u001b[0m \u001b[1m24s\u001b[0m 54ms/step - accuracy: 0.6540 - loss: 0.9256 - val_accuracy: 0.6962 - val_loss: 0.8159 - learning_rate: 0.0010\n",
            "Epoch 19/70\n",
            "\u001b[1m431/431\u001b[0m \u001b[32m━━━━━━━━━━━━━━━━━━━━\u001b[0m\u001b[37m\u001b[0m \u001b[1m24s\u001b[0m 55ms/step - accuracy: 0.6583 - loss: 0.9174 - val_accuracy: 0.6842 - val_loss: 0.8453 - learning_rate: 0.0010\n",
            "Epoch 20/70\n",
            "\u001b[1m431/431\u001b[0m \u001b[32m━━━━━━━━━━━━━━━━━━━━\u001b[0m\u001b[37m\u001b[0m \u001b[1m24s\u001b[0m 54ms/step - accuracy: 0.6619 - loss: 0.9122 - val_accuracy: 0.6900 - val_loss: 0.8354 - learning_rate: 0.0010\n",
            "Epoch 21/70\n",
            "\u001b[1m431/431\u001b[0m \u001b[32m━━━━━━━━━━━━━━━━━━━━\u001b[0m\u001b[37m\u001b[0m \u001b[1m24s\u001b[0m 54ms/step - accuracy: 0.6583 - loss: 0.9113 - val_accuracy: 0.6971 - val_loss: 0.8497 - learning_rate: 0.0010\n",
            "Epoch 22/70\n",
            "\u001b[1m431/431\u001b[0m \u001b[32m━━━━━━━━━━━━━━━━━━━━\u001b[0m\u001b[37m\u001b[0m \u001b[1m24s\u001b[0m 54ms/step - accuracy: 0.6611 - loss: 0.9058 - val_accuracy: 0.7166 - val_loss: 0.7702 - learning_rate: 0.0010\n",
            "Epoch 23/70\n",
            "\u001b[1m431/431\u001b[0m \u001b[32m━━━━━━━━━━━━━━━━━━━━\u001b[0m\u001b[37m\u001b[0m \u001b[1m24s\u001b[0m 55ms/step - accuracy: 0.6707 - loss: 0.8891 - val_accuracy: 0.7127 - val_loss: 0.7680 - learning_rate: 0.0010\n",
            "Epoch 24/70\n",
            "\u001b[1m431/431\u001b[0m \u001b[32m━━━━━━━━━━━━━━━━━━━━\u001b[0m\u001b[37m\u001b[0m \u001b[1m24s\u001b[0m 55ms/step - accuracy: 0.6703 - loss: 0.8853 - val_accuracy: 0.7031 - val_loss: 0.8033 - learning_rate: 0.0010\n",
            "Epoch 25/70\n",
            "\u001b[1m431/431\u001b[0m \u001b[32m━━━━━━━━━━━━━━━━━━━━\u001b[0m\u001b[37m\u001b[0m \u001b[1m24s\u001b[0m 54ms/step - accuracy: 0.6796 - loss: 0.8584 - val_accuracy: 0.7108 - val_loss: 0.7840 - learning_rate: 0.0010\n",
            "Epoch 26/70\n",
            "\u001b[1m431/431\u001b[0m \u001b[32m━━━━━━━━━━━━━━━━━━━━\u001b[0m\u001b[37m\u001b[0m \u001b[1m24s\u001b[0m 54ms/step - accuracy: 0.6738 - loss: 0.8698 - val_accuracy: 0.6902 - val_loss: 0.8185 - learning_rate: 0.0010\n",
            "Epoch 27/70\n",
            "\u001b[1m431/431\u001b[0m \u001b[32m━━━━━━━━━━━━━━━━━━━━\u001b[0m\u001b[37m\u001b[0m \u001b[1m24s\u001b[0m 54ms/step - accuracy: 0.6893 - loss: 0.8392 - val_accuracy: 0.7295 - val_loss: 0.7337 - learning_rate: 0.0010\n",
            "Epoch 28/70\n",
            "\u001b[1m431/431\u001b[0m \u001b[32m━━━━━━━━━━━━━━━━━━━━\u001b[0m\u001b[37m\u001b[0m \u001b[1m24s\u001b[0m 54ms/step - accuracy: 0.6863 - loss: 0.8429 - val_accuracy: 0.7285 - val_loss: 0.7280 - learning_rate: 0.0010\n",
            "Epoch 29/70\n",
            "\u001b[1m431/431\u001b[0m \u001b[32m━━━━━━━━━━━━━━━━━━━━\u001b[0m\u001b[37m\u001b[0m \u001b[1m24s\u001b[0m 54ms/step - accuracy: 0.6926 - loss: 0.8291 - val_accuracy: 0.7162 - val_loss: 0.7801 - learning_rate: 0.0010\n",
            "Epoch 30/70\n",
            "\u001b[1m431/431\u001b[0m \u001b[32m━━━━━━━━━━━━━━━━━━━━\u001b[0m\u001b[37m\u001b[0m \u001b[1m24s\u001b[0m 54ms/step - accuracy: 0.6898 - loss: 0.8284 - val_accuracy: 0.7374 - val_loss: 0.7149 - learning_rate: 0.0010\n",
            "Epoch 31/70\n",
            "\u001b[1m431/431\u001b[0m \u001b[32m━━━━━━━━━━━━━━━━━━━━\u001b[0m\u001b[37m\u001b[0m \u001b[1m24s\u001b[0m 54ms/step - accuracy: 0.6940 - loss: 0.8106 - val_accuracy: 0.7409 - val_loss: 0.6905 - learning_rate: 0.0010\n",
            "Epoch 32/70\n",
            "\u001b[1m431/431\u001b[0m \u001b[32m━━━━━━━━━━━━━━━━━━━━\u001b[0m\u001b[37m\u001b[0m \u001b[1m24s\u001b[0m 54ms/step - accuracy: 0.7014 - loss: 0.8020 - val_accuracy: 0.7462 - val_loss: 0.6896 - learning_rate: 0.0010\n",
            "Epoch 33/70\n",
            "\u001b[1m431/431\u001b[0m \u001b[32m━━━━━━━━━━━━━━━━━━━━\u001b[0m\u001b[37m\u001b[0m \u001b[1m24s\u001b[0m 54ms/step - accuracy: 0.7058 - loss: 0.7928 - val_accuracy: 0.7542 - val_loss: 0.6785 - learning_rate: 0.0010\n",
            "Epoch 34/70\n",
            "\u001b[1m431/431\u001b[0m \u001b[32m━━━━━━━━━━━━━━━━━━━━\u001b[0m\u001b[37m\u001b[0m \u001b[1m24s\u001b[0m 54ms/step - accuracy: 0.7098 - loss: 0.7914 - val_accuracy: 0.7469 - val_loss: 0.6882 - learning_rate: 0.0010\n",
            "Epoch 35/70\n",
            "\u001b[1m431/431\u001b[0m \u001b[32m━━━━━━━━━━━━━━━━━━━━\u001b[0m\u001b[37m\u001b[0m \u001b[1m24s\u001b[0m 54ms/step - accuracy: 0.7067 - loss: 0.7910 - val_accuracy: 0.7599 - val_loss: 0.6627 - learning_rate: 0.0010\n",
            "Epoch 36/70\n",
            "\u001b[1m431/431\u001b[0m \u001b[32m━━━━━━━━━━━━━━━━━━━━\u001b[0m\u001b[37m\u001b[0m \u001b[1m24s\u001b[0m 54ms/step - accuracy: 0.7084 - loss: 0.7842 - val_accuracy: 0.7458 - val_loss: 0.6957 - learning_rate: 0.0010\n",
            "Epoch 37/70\n",
            "\u001b[1m431/431\u001b[0m \u001b[32m━━━━━━━━━━━━━━━━━━━━\u001b[0m\u001b[37m\u001b[0m \u001b[1m24s\u001b[0m 54ms/step - accuracy: 0.7160 - loss: 0.7682 - val_accuracy: 0.7373 - val_loss: 0.7059 - learning_rate: 0.0010\n",
            "Epoch 38/70\n",
            "\u001b[1m431/431\u001b[0m \u001b[32m━━━━━━━━━━━━━━━━━━━━\u001b[0m\u001b[37m\u001b[0m \u001b[1m24s\u001b[0m 54ms/step - accuracy: 0.7145 - loss: 0.7655 - val_accuracy: 0.7696 - val_loss: 0.6240 - learning_rate: 0.0010\n",
            "Epoch 39/70\n",
            "\u001b[1m431/431\u001b[0m \u001b[32m━━━━━━━━━━━━━━━━━━━━\u001b[0m\u001b[37m\u001b[0m \u001b[1m24s\u001b[0m 54ms/step - accuracy: 0.7191 - loss: 0.7578 - val_accuracy: 0.7502 - val_loss: 0.6826 - learning_rate: 0.0010\n",
            "Epoch 40/70\n",
            "\u001b[1m431/431\u001b[0m \u001b[32m━━━━━━━━━━━━━━━━━━━━\u001b[0m\u001b[37m\u001b[0m \u001b[1m24s\u001b[0m 54ms/step - accuracy: 0.7245 - loss: 0.7460 - val_accuracy: 0.7680 - val_loss: 0.6330 - learning_rate: 0.0010\n",
            "Epoch 41/70\n",
            "\u001b[1m431/431\u001b[0m \u001b[32m━━━━━━━━━━━━━━━━━━━━\u001b[0m\u001b[37m\u001b[0m \u001b[1m24s\u001b[0m 55ms/step - accuracy: 0.7228 - loss: 0.7405 - val_accuracy: 0.7790 - val_loss: 0.6036 - learning_rate: 0.0010\n",
            "Epoch 42/70\n",
            "\u001b[1m431/431\u001b[0m \u001b[32m━━━━━━━━━━━━━━━━━━━━\u001b[0m\u001b[37m\u001b[0m \u001b[1m24s\u001b[0m 54ms/step - accuracy: 0.7254 - loss: 0.7387 - val_accuracy: 0.7844 - val_loss: 0.5843 - learning_rate: 0.0010\n",
            "Epoch 43/70\n",
            "\u001b[1m431/431\u001b[0m \u001b[32m━━━━━━━━━━━━━━━━━━━━\u001b[0m\u001b[37m\u001b[0m \u001b[1m24s\u001b[0m 55ms/step - accuracy: 0.7289 - loss: 0.7260 - val_accuracy: 0.7677 - val_loss: 0.6276 - learning_rate: 0.0010\n",
            "Epoch 44/70\n",
            "\u001b[1m431/431\u001b[0m \u001b[32m━━━━━━━━━━━━━━━━━━━━\u001b[0m\u001b[37m\u001b[0m \u001b[1m24s\u001b[0m 55ms/step - accuracy: 0.7271 - loss: 0.7296 - val_accuracy: 0.7841 - val_loss: 0.5790 - learning_rate: 0.0010\n",
            "Epoch 45/70\n",
            "\u001b[1m431/431\u001b[0m \u001b[32m━━━━━━━━━━━━━━━━━━━━\u001b[0m\u001b[37m\u001b[0m \u001b[1m24s\u001b[0m 55ms/step - accuracy: 0.7350 - loss: 0.7142 - val_accuracy: 0.7801 - val_loss: 0.5945 - learning_rate: 0.0010\n",
            "Epoch 46/70\n",
            "\u001b[1m431/431\u001b[0m \u001b[32m━━━━━━━━━━━━━━━━━━━━\u001b[0m\u001b[37m\u001b[0m \u001b[1m24s\u001b[0m 54ms/step - accuracy: 0.7327 - loss: 0.7160 - val_accuracy: 0.7727 - val_loss: 0.6174 - learning_rate: 0.0010\n",
            "Epoch 47/70\n",
            "\u001b[1m431/431\u001b[0m \u001b[32m━━━━━━━━━━━━━━━━━━━━\u001b[0m\u001b[37m\u001b[0m \u001b[1m24s\u001b[0m 55ms/step - accuracy: 0.7313 - loss: 0.7080 - val_accuracy: 0.7570 - val_loss: 0.6505 - learning_rate: 0.0010\n",
            "Epoch 48/70\n",
            "\u001b[1m431/431\u001b[0m \u001b[32m━━━━━━━━━━━━━━━━━━━━\u001b[0m\u001b[37m\u001b[0m \u001b[1m24s\u001b[0m 54ms/step - accuracy: 0.7397 - loss: 0.6956 - val_accuracy: 0.7819 - val_loss: 0.5837 - learning_rate: 0.0010\n",
            "Epoch 49/70\n",
            "\u001b[1m430/431\u001b[0m \u001b[32m━━━━━━━━━━━━━━━━━━━\u001b[0m\u001b[37m━\u001b[0m \u001b[1m0s\u001b[0m 48ms/step - accuracy: 0.7463 - loss: 0.6856\n",
            "Epoch 49: ReduceLROnPlateau reducing learning rate to 0.0005000000237487257.\n",
            "\u001b[1m431/431\u001b[0m \u001b[32m━━━━━━━━━━━━━━━━━━━━\u001b[0m\u001b[37m\u001b[0m \u001b[1m24s\u001b[0m 54ms/step - accuracy: 0.7463 - loss: 0.6856 - val_accuracy: 0.7831 - val_loss: 0.5883 - learning_rate: 0.0010\n",
            "Epoch 50/70\n",
            "\u001b[1m431/431\u001b[0m \u001b[32m━━━━━━━━━━━━━━━━━━━━\u001b[0m\u001b[37m\u001b[0m \u001b[1m24s\u001b[0m 55ms/step - accuracy: 0.7507 - loss: 0.6649 - val_accuracy: 0.8152 - val_loss: 0.5152 - learning_rate: 5.0000e-04\n",
            "Epoch 51/70\n",
            "\u001b[1m431/431\u001b[0m \u001b[32m━━━━━━━━━━━━━━━━━━━━\u001b[0m\u001b[37m\u001b[0m \u001b[1m24s\u001b[0m 54ms/step - accuracy: 0.7572 - loss: 0.6512 - val_accuracy: 0.8178 - val_loss: 0.5034 - learning_rate: 5.0000e-04\n",
            "Epoch 52/70\n",
            "\u001b[1m431/431\u001b[0m \u001b[32m━━━━━━━━━━━━━━━━━━━━\u001b[0m\u001b[37m\u001b[0m \u001b[1m24s\u001b[0m 54ms/step - accuracy: 0.7670 - loss: 0.6351 - val_accuracy: 0.8179 - val_loss: 0.4997 - learning_rate: 5.0000e-04\n",
            "Epoch 53/70\n",
            "\u001b[1m431/431\u001b[0m \u001b[32m━━━━━━━━━━━━━━━━━━━━\u001b[0m\u001b[37m\u001b[0m \u001b[1m24s\u001b[0m 54ms/step - accuracy: 0.7686 - loss: 0.6273 - val_accuracy: 0.8184 - val_loss: 0.4980 - learning_rate: 5.0000e-04\n",
            "Epoch 54/70\n",
            "\u001b[1m431/431\u001b[0m \u001b[32m━━━━━━━━━━━━━━━━━━━━\u001b[0m\u001b[37m\u001b[0m \u001b[1m24s\u001b[0m 54ms/step - accuracy: 0.7697 - loss: 0.6138 - val_accuracy: 0.8270 - val_loss: 0.4778 - learning_rate: 5.0000e-04\n",
            "Epoch 55/70\n",
            "\u001b[1m431/431\u001b[0m \u001b[32m━━━━━━━━━━━━━━━━━━━━\u001b[0m\u001b[37m\u001b[0m \u001b[1m24s\u001b[0m 54ms/step - accuracy: 0.7747 - loss: 0.6104 - val_accuracy: 0.8322 - val_loss: 0.4630 - learning_rate: 5.0000e-04\n",
            "Epoch 56/70\n",
            "\u001b[1m431/431\u001b[0m \u001b[32m━━━━━━━━━━━━━━━━━━━━\u001b[0m\u001b[37m\u001b[0m \u001b[1m24s\u001b[0m 54ms/step - accuracy: 0.7785 - loss: 0.6009 - val_accuracy: 0.8304 - val_loss: 0.4675 - learning_rate: 5.0000e-04\n",
            "Epoch 57/70\n",
            "\u001b[1m431/431\u001b[0m \u001b[32m━━━━━━━━━━━━━━━━━━━━\u001b[0m\u001b[37m\u001b[0m \u001b[1m24s\u001b[0m 55ms/step - accuracy: 0.7760 - loss: 0.6034 - val_accuracy: 0.8399 - val_loss: 0.4516 - learning_rate: 5.0000e-04\n",
            "Epoch 58/70\n",
            "\u001b[1m431/431\u001b[0m \u001b[32m━━━━━━━━━━━━━━━━━━━━\u001b[0m\u001b[37m\u001b[0m \u001b[1m24s\u001b[0m 54ms/step - accuracy: 0.7785 - loss: 0.6018 - val_accuracy: 0.8438 - val_loss: 0.4349 - learning_rate: 5.0000e-04\n",
            "Epoch 59/70\n",
            "\u001b[1m431/431\u001b[0m \u001b[32m━━━━━━━━━━━━━━━━━━━━\u001b[0m\u001b[37m\u001b[0m \u001b[1m24s\u001b[0m 54ms/step - accuracy: 0.7823 - loss: 0.5910 - val_accuracy: 0.8436 - val_loss: 0.4360 - learning_rate: 5.0000e-04\n",
            "Epoch 60/70\n",
            "\u001b[1m431/431\u001b[0m \u001b[32m━━━━━━━━━━━━━━━━━━━━\u001b[0m\u001b[37m\u001b[0m \u001b[1m24s\u001b[0m 54ms/step - accuracy: 0.7786 - loss: 0.5983 - val_accuracy: 0.8419 - val_loss: 0.4400 - learning_rate: 5.0000e-04\n",
            "Epoch 61/70\n",
            "\u001b[1m431/431\u001b[0m \u001b[32m━━━━━━━━━━━━━━━━━━━━\u001b[0m\u001b[37m\u001b[0m \u001b[1m24s\u001b[0m 55ms/step - accuracy: 0.7883 - loss: 0.5704 - val_accuracy: 0.8439 - val_loss: 0.4409 - learning_rate: 5.0000e-04\n",
            "Epoch 62/70\n",
            "\u001b[1m431/431\u001b[0m \u001b[32m━━━━━━━━━━━━━━━━━━━━\u001b[0m\u001b[37m\u001b[0m \u001b[1m24s\u001b[0m 54ms/step - accuracy: 0.7810 - loss: 0.5891 - val_accuracy: 0.8435 - val_loss: 0.4380 - learning_rate: 5.0000e-04\n",
            "Epoch 63/70\n",
            "\u001b[1m431/431\u001b[0m \u001b[32m━━━━━━━━━━━━━━━━━━━━\u001b[0m\u001b[37m\u001b[0m \u001b[1m24s\u001b[0m 54ms/step - accuracy: 0.7942 - loss: 0.5649 - val_accuracy: 0.8427 - val_loss: 0.4310 - learning_rate: 5.0000e-04\n",
            "Epoch 64/70\n",
            "\u001b[1m431/431\u001b[0m \u001b[32m━━━━━━━━━━━━━━━━━━━━\u001b[0m\u001b[37m\u001b[0m \u001b[1m24s\u001b[0m 54ms/step - accuracy: 0.7923 - loss: 0.5588 - val_accuracy: 0.8524 - val_loss: 0.4170 - learning_rate: 5.0000e-04\n",
            "Epoch 65/70\n",
            "\u001b[1m431/431\u001b[0m \u001b[32m━━━━━━━━━━━━━━━━━━━━\u001b[0m\u001b[37m\u001b[0m \u001b[1m24s\u001b[0m 54ms/step - accuracy: 0.7922 - loss: 0.5609 - val_accuracy: 0.8495 - val_loss: 0.4237 - learning_rate: 5.0000e-04\n",
            "Epoch 66/70\n",
            "\u001b[1m431/431\u001b[0m \u001b[32m━━━━━━━━━━━━━━━━━━━━\u001b[0m\u001b[37m\u001b[0m \u001b[1m24s\u001b[0m 55ms/step - accuracy: 0.7972 - loss: 0.5485 - val_accuracy: 0.8524 - val_loss: 0.4133 - learning_rate: 5.0000e-04\n",
            "Epoch 67/70\n",
            "\u001b[1m431/431\u001b[0m \u001b[32m━━━━━━━━━━━━━━━━━━━━\u001b[0m\u001b[37m\u001b[0m \u001b[1m24s\u001b[0m 54ms/step - accuracy: 0.7989 - loss: 0.5524 - val_accuracy: 0.8609 - val_loss: 0.4016 - learning_rate: 5.0000e-04\n",
            "Epoch 68/70\n",
            "\u001b[1m431/431\u001b[0m \u001b[32m━━━━━━━━━━━━━━━━━━━━\u001b[0m\u001b[37m\u001b[0m \u001b[1m23s\u001b[0m 54ms/step - accuracy: 0.7975 - loss: 0.5484 - val_accuracy: 0.8575 - val_loss: 0.4009 - learning_rate: 5.0000e-04\n",
            "Epoch 69/70\n",
            "\u001b[1m431/431\u001b[0m \u001b[32m━━━━━━━━━━━━━━━━━━━━\u001b[0m\u001b[37m\u001b[0m \u001b[1m24s\u001b[0m 54ms/step - accuracy: 0.7983 - loss: 0.5431 - val_accuracy: 0.8611 - val_loss: 0.3975 - learning_rate: 5.0000e-04\n",
            "Epoch 70/70\n",
            "\u001b[1m431/431\u001b[0m \u001b[32m━━━━━━━━━━━━━━━━━━━━\u001b[0m\u001b[37m\u001b[0m \u001b[1m24s\u001b[0m 55ms/step - accuracy: 0.8017 - loss: 0.5378 - val_accuracy: 0.8629 - val_loss: 0.3868 - learning_rate: 5.0000e-04\n",
            "Restoring model weights from the end of the best epoch: 70.\n"
          ]
        }
      ]
    },
    {
      "cell_type": "code",
      "source": [
        "import matplotlib.pyplot as plt\n",
        "\n",
        "# Eğitim ve doğrulama doğruluğu grafiği\n",
        "plt.figure(figsize=(10, 5))\n",
        "plt.plot(history.history['accuracy'], label='Training Accuracy', marker='o')\n",
        "plt.plot(history.history['val_accuracy'], label='Validation Accuracy', marker='o')\n",
        "plt.title('Training vs. Validation Accuracy', fontsize=16)\n",
        "plt.xlabel('Epoch', fontsize=12)\n",
        "plt.ylabel('Accuracy', fontsize=12)\n",
        "plt.legend(fontsize=10)\n",
        "plt.grid(True, linestyle='--', alpha=0.6)\n",
        "plt.show()\n",
        "\n",
        "# Eğitim ve doğrulama kaybı grafiği\n",
        "plt.figure(figsize=(10, 5))\n",
        "plt.plot(history.history['loss'], label='Training Loss', marker='o')\n",
        "plt.plot(history.history['val_loss'], label='Validation Loss', marker='o')\n",
        "plt.title('Training vs. Validation Loss', fontsize=16)\n",
        "plt.xlabel('Epoch', fontsize=12)\n",
        "plt.ylabel('Loss', fontsize=12)\n",
        "plt.legend(fontsize=10)\n",
        "plt.grid(True, linestyle='--', alpha=0.6)\n",
        "plt.show()"
      ],
      "metadata": {
        "colab": {
          "base_uri": "https://localhost:8080/",
          "height": 989
        },
        "id": "GYENL20E3fZB",
        "outputId": "75be7278-f8a2-4d20-c0cb-c805005f5d23"
      },
      "execution_count": null,
      "outputs": [
        {
          "output_type": "display_data",
          "data": {
            "text/plain": [
              "<Figure size 1000x500 with 1 Axes>"
            ],
            "image/png": "[encoded data removed]"
          },
          "metadata": {}
        },
        {
          "output_type": "display_data",
          "data": {
            "text/plain": [
              "<Figure size 1000x500 with 1 Axes>"
            ],
            "image/png": "[encoded data removed]"
          },
          "metadata": {}
        }
      ]
    },
    {
      "cell_type": "code",
      "source": [
        "# Validation veri kümesinde modeli değerlendiriyoruz\n",
        "loss, accuracy = model.evaluate(fer_test_data, verbose=1)\n",
        "\n",
        "print(f'Doğrulama Kaybı: {loss}')\n",
        "print(f'Doğrulama Doğruluğu: {accuracy * 100:.2f}%')"
      ],
      "metadata": {
        "colab": {
          "base_uri": "https://localhost:8080/"
        },
        "id": "COVJDF8w7a-N",
        "outputId": "b9beaf0d-85ae-404f-ec47-d764c64a450f"
      },
      "execution_count": null,
      "outputs": [
        {
          "output_type": "stream",
          "name": "stdout",
          "text": [
            "\u001b[1m162/162\u001b[0m \u001b[32m━━━━━━━━━━━━━━━━━━━━\u001b[0m\u001b[37m\u001b[0m \u001b[1m3s\u001b[0m 19ms/step - accuracy: 0.8656 - loss: 0.3753\n",
            "Doğrulama Kaybı: 0.386823832988739\n",
            "Doğrulama Doğruluğu: 86.29%\n"
          ]
        }
      ]
    },
    {
      "cell_type": "code",
      "source": [
        "import numpy as np\n",
        "from tensorflow.keras.preprocessing import image\n",
        "import matplotlib.pyplot as plt\n",
        "\n",
        "# Test etmek istediğiniz resmin yolu\n",
        "image_path = '/content/Angry Face.jpg'\n",
        "\n",
        "# Resmi yükle ve modelin beklediği formatta yeniden boyutlandır\n",
        "img = image.load_img(image_path, target_size=(48, 48), color_mode=\"grayscale\")\n",
        "\n",
        "# Resmi numpy array'e dönüştür\n",
        "img_array = image.img_to_array(img)\n",
        "\n",
        "# Verisetinin normalizasyonu (0-255 arasındaki piksel değerlerini 0-1 arasına çekeriz)\n",
        "img_array = img_array / 255.0\n",
        "\n",
        "# Modelin beklediği formatta 4 boyutlu bir array haline getirme\n",
        "img_array = np.expand_dims(img_array, axis=0)  # Bu, (1, 48, 48, 1) boyutunu verir\n",
        "\n",
        "# Modeli kullanarak tahmin yapma\n",
        "pred = model.predict(img_array)\n",
        "\n",
        "# Tahmin edilen sınıfı al (en yüksek olasılığa sahip sınıf)\n",
        "predicted_class = np.argmax(pred, axis=1)\n",
        "\n",
        "# Sınıf isimlerini almak\n",
        "labels = list(fer_test_data.class_indices.keys())\n",
        "\n",
        "# Tahmin edilen duygu\n",
        "predicted_emotion = labels[predicted_class[0]]\n",
        "\n",
        "# Sonuçları yazdırma\n",
        "print(f\"Tahmin Edilen Duygu: {predicted_emotion}\")\n",
        "\n",
        "# Resmi görselleştirme\n",
        "plt.imshow(img, cmap='gray')\n",
        "plt.title(f'Tahmin: {predicted_emotion}')\n",
        "plt.axis('off')  # Eksenleri gizleme\n",
        "plt.show()"
      ],
      "metadata": {
        "id": "DqBTTKEj7k0-"
      },
      "execution_count": null,
      "outputs": []
    },
    {
      "cell_type": "code",
      "source": [
        "# Tahminleri al ve confusion matrix'i oluştur\n",
        "y_pred = model.predict(fer_test_data)\n",
        "y_pred_classes = np.argmax(y_pred, axis=1)\n",
        "y_true = fer_test_data.classes\n",
        "\n",
        "from sklearn.metrics import confusion_matrix\n",
        "import seaborn as sns\n",
        "import matplotlib.pyplot as plt\n",
        "\n",
        "cm = confusion_matrix(y_true, y_pred_classes)\n",
        "\n",
        "plt.figure(figsize=(8, 6))\n",
        "sns.heatmap(cm, annot=True, fmt='d', cmap='Blues')\n",
        "plt.xlabel('Predicted')\n",
        "plt.ylabel('True')\n",
        "plt.title('Confusion Matrix')\n",
        "plt.show()"
      ],
      "metadata": {
        "id": "w3vDgUNWerzH"
      },
      "execution_count": null,
      "outputs": []
    },
    {
      "cell_type": "code",
      "source": [
        "# Save the trained model\n",
        "model.save('emotion_model.h5')"
      ],
      "metadata": {
        "colab": {
          "base_uri": "https://localhost:8080/"
        },
        "id": "bL8NKDDN79MI",
        "outputId": "ef4ced71-dbb7-429b-8284-be6e2e33afb0"
      },
      "execution_count": null,
      "outputs": [
        {
          "output_type": "stream",
          "name": "stderr",
          "text": [
            "WARNING:absl:You are saving your model as an HDF5 file via `model.save()` or `keras.saving.save_model(model)`. This file format is considered legacy. We recommend using instead the native Keras format, e.g. `model.save('my_model.keras')` or `keras.saving.save_model(model, 'my_model.keras')`. \n"
          ]
        }
      ]
    },
    {
      "cell_type": "code",
      "source": [
        "# TensorFlow Lite Converter kullanarak dönüştürme\n",
        "import tensorflow as tf\n",
        "converter = tf.lite.TFLiteConverter.from_keras_model(model)\n",
        "tflite_model = converter.convert()\n",
        "open(\"emotion_mod.tflite\", \"wb\").write(tflite_model)"
      ],
      "metadata": {
        "colab": {
          "base_uri": "https://localhost:8080/"
        },
        "id": "grvc1BorfbL8",
        "outputId": "bc610165-b2cb-4d96-ae27-af7b5929db26"
      },
      "execution_count": null,
      "outputs": [
        {
          "output_type": "stream",
          "name": "stdout",
          "text": [
            "Saved artifact at '/tmp/tmpc_pd04b8'. The following endpoints are available:\n",
            "\n",
            "* Endpoint 'serve'\n",
            "  args_0 (POSITIONAL_ONLY): TensorSpec(shape=(None, 48, 48, 1), dtype=tf.float32, name='keras_tensor')\n",
            "Output Type:\n",
            "  TensorSpec(shape=(None, 7), dtype=tf.float32, name=None)\n",
            "Captures:\n",
            "  132030709707728: TensorSpec(shape=(), dtype=tf.resource, name=None)\n",
            "  132030709587936: TensorSpec(shape=(), dtype=tf.resource, name=None)\n",
            "  132030700839056: TensorSpec(shape=(), dtype=tf.resource, name=None)\n",
            "  132030700838704: TensorSpec(shape=(), dtype=tf.resource, name=None)\n",
            "  132030700833072: TensorSpec(shape=(), dtype=tf.resource, name=None)\n",
            "  132030700839584: TensorSpec(shape=(), dtype=tf.resource, name=None)\n",
            "  132030700845392: TensorSpec(shape=(), dtype=tf.resource, name=None)\n",
            "  132030700844512: TensorSpec(shape=(), dtype=tf.resource, name=None)\n",
            "  132030701048704: TensorSpec(shape=(), dtype=tf.resource, name=None)\n",
            "  132030701049232: TensorSpec(shape=(), dtype=tf.resource, name=None)\n",
            "  132030701046768: TensorSpec(shape=(), dtype=tf.resource, name=None)\n",
            "  132030701048000: TensorSpec(shape=(), dtype=tf.resource, name=None)\n",
            "  132030701059088: TensorSpec(shape=(), dtype=tf.resource, name=None)\n",
            "  132030701212192: TensorSpec(shape=(), dtype=tf.resource, name=None)\n",
            "  132030701213600: TensorSpec(shape=(), dtype=tf.resource, name=None)\n",
            "  132030701215360: TensorSpec(shape=(), dtype=tf.resource, name=None)\n",
            "  132030701212896: TensorSpec(shape=(), dtype=tf.resource, name=None)\n",
            "  132030701214128: TensorSpec(shape=(), dtype=tf.resource, name=None)\n",
            "  132030701221872: TensorSpec(shape=(), dtype=tf.resource, name=None)\n",
            "  132030701219760: TensorSpec(shape=(), dtype=tf.resource, name=None)\n",
            "  132030701324592: TensorSpec(shape=(), dtype=tf.resource, name=None)\n",
            "  132030701322832: TensorSpec(shape=(), dtype=tf.resource, name=None)\n",
            "  132030701322656: TensorSpec(shape=(), dtype=tf.resource, name=None)\n",
            "  132030701323888: TensorSpec(shape=(), dtype=tf.resource, name=None)\n",
            "  132030701338144: TensorSpec(shape=(), dtype=tf.resource, name=None)\n",
            "  132030701337264: TensorSpec(shape=(), dtype=tf.resource, name=None)\n",
            "  132030701492480: TensorSpec(shape=(), dtype=tf.resource, name=None)\n",
            "  132030701493008: TensorSpec(shape=(), dtype=tf.resource, name=None)\n",
            "  132030701490544: TensorSpec(shape=(), dtype=tf.resource, name=None)\n",
            "  132030701491776: TensorSpec(shape=(), dtype=tf.resource, name=None)\n",
            "  132030701500048: TensorSpec(shape=(), dtype=tf.resource, name=None)\n",
            "  132030701497936: TensorSpec(shape=(), dtype=tf.resource, name=None)\n",
            "  132030701701600: TensorSpec(shape=(), dtype=tf.resource, name=None)\n",
            "  132030701699840: TensorSpec(shape=(), dtype=tf.resource, name=None)\n",
            "  132030701699664: TensorSpec(shape=(), dtype=tf.resource, name=None)\n",
            "  132030701700896: TensorSpec(shape=(), dtype=tf.resource, name=None)\n",
            "  132030675720976: TensorSpec(shape=(), dtype=tf.resource, name=None)\n",
            "  132030675719744: TensorSpec(shape=(), dtype=tf.resource, name=None)\n",
            "  132030675726256: TensorSpec(shape=(), dtype=tf.resource, name=None)\n",
            "  132030675728016: TensorSpec(shape=(), dtype=tf.resource, name=None)\n",
            "  132030675725552: TensorSpec(shape=(), dtype=tf.resource, name=None)\n",
            "  132030675726784: TensorSpec(shape=(), dtype=tf.resource, name=None)\n",
            "  132030675935376: TensorSpec(shape=(), dtype=tf.resource, name=None)\n",
            "  132030675936256: TensorSpec(shape=(), dtype=tf.resource, name=None)\n"
          ]
        },
        {
          "output_type": "execute_result",
          "data": {
            "text/plain": [
              "39739768"
            ]
          },
          "metadata": {},
          "execution_count": 26
        }
      ]
    },
    {
      "cell_type": "code",
      "source": [],
      "metadata": {
        "id": "sT0inqeQffPu"
      },
      "execution_count": null,
      "outputs": []
    }
  ]
}